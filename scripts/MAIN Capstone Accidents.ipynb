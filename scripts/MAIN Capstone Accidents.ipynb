{
 "cells": [
  {
   "cell_type": "code",
   "execution_count": 149,
   "metadata": {
    "collapsed": true
   },
   "outputs": [],
   "source": [
    "#Importing all the libraries required\n",
    "import pandas as pd\n",
    "import numpy as np\n",
    "import matplotlib.pyplot as plt\n",
    "from sklearn.preprocessing import LabelEncoder\n",
    "from sklearn.model_selection import train_test_split\n",
    "from sklearn import preprocessing\n",
    "from sklearn.utils import resample\n",
    "from sklearn.neighbors import KNeighborsClassifier\n",
    "from sklearn.tree import DecisionTreeClassifier\n",
    "from sklearn.linear_model import LogisticRegression\n",
    "from sklearn.metrics import accuracy_score #Jaccard\n",
    "from sklearn.metrics import f1_score\n",
    "from sklearn.metrics import log_loss\n",
    "from sklearn.metrics import precision_score\n",
    "from sklearn.metrics import recall_score\n",
    "import seaborn as sns"
   ]
  },
  {
   "cell_type": "code",
   "execution_count": 150,
   "outputs": [
    {
     "name": "stderr",
     "output_type": "stream",
     "text": [
      "c:\\program files (x86)\\lib\\site-packages\\IPython\\core\\interactiveshell.py:3072: DtypeWarning: Columns (33) have mixed types.Specify dtype option on import or set low_memory=False.\n",
      "  interactivity=interactivity, compiler=compiler, result=result)\n"
     ]
    }
   ],
   "source": [
    "#Read File from local path\n",
    "read=pd.read_csv(r'C:\\Users\\Hp\\Downloads\\Data-Collisions.csv')\n",
    "df=pd.DataFrame(read)"
   ],
   "metadata": {
    "collapsed": false,
    "pycharm": {
     "name": "#%%\n"
    }
   }
  },
  {
   "cell_type": "code",
   "execution_count": 151,
   "outputs": [],
   "source": [
    "#Label Encoding and preprocessing inorder to convert categorical values to integer type for preprocessing\n",
    "df=df[df['STATUS']!='Unmatched']\n",
    "df['SPEEDING'].fillna(\"N\",inplace=True)\n",
    "df[\"INATTENTIONIND\"].fillna(\"N\",inplace=True)\n",
    "\"\"\"df[\"INTKEY\"].fillna(method='ffill',inplace=True)\"\"\"\n",
    "df['ROADCOND_NUM']=LabelEncoder().fit_transform(df['ROADCOND'].astype(str))\n",
    "df['WEATHER_NUM']=LabelEncoder().fit_transform(df['WEATHER'].astype(str))\n",
    "df['LIGHTCOND_NUM']=LabelEncoder().fit_transform(df['LIGHTCOND'].astype(str))\n",
    "df['SPEEDING_NUM']=LabelEncoder().fit_transform(df['SPEEDING'].astype(str))\n",
    "df['COLLISION_NUM']=LabelEncoder().fit_transform(df['COLLISIONTYPE'].astype(str))\n",
    "#Under influence start\n",
    "df['UNDERINFL'].replace(\"N\",int(0),inplace=True)\n",
    "df['UNDERINFL'].replace(\"Y\",int(1),inplace=True)\n",
    "#Under influence end\n",
    "#Inattention ID start\n",
    "df[\"INATTENTIONIND\"].replace(\"N\",0,inplace=True)\n",
    "df[\"INATTENTIONIND\"].replace(\"Y\",1,inplace=True)\n",
    "#Inattention ID stop\n",
    "df[\"UNDERINFL\"]=df[\"UNDERINFL\"].astype(int)\n",
    "#print(df.dtypes)\n",
    "#print(df.corr()['SEVERITYCODE'].sort_values())#Correlation\n",
    "data=df[['SEVERITYCODE','WEATHER_NUM','INATTENTIONIND','ROADCOND_NUM','LIGHTCOND_NUM','VEHCOUNT','SPEEDING_NUM','COLLISION_NUM','UNDERINFL']]"
   ],
   "metadata": {
    "collapsed": false,
    "pycharm": {
     "name": "#%%\n"
    }
   }
  },
  {
   "cell_type": "code",
   "execution_count": 152,
   "outputs": [
    {
     "data": {
      "text/plain": "'plt.figure(figsize=(15, 6))\\nax = sns.countplot(x=\"WEATHER_NUM\", hue=\"SEVERITYCODE\", data=data)\\nplt.figure(figsize=(15, 6))\\nax = sns.countplot(x=\"INATTENTIONIND\", hue=\"SEVERITYCODE\", data=data)\\nplt.figure(figsize=(15, 6))\\nax = sns.countplot(x=\"ROADCOND_NUM\", hue=\"SEVERITYCODE\", data=data)\\nplt.figure(figsize=(15, 6))\\nax = sns.countplot(x=\"LIGHTCOND_NUM\", hue=\"SEVERITYCODE\", data=data)\\nplt.figure(figsize=(15, 6))\\nax = sns.countplot(x=\"VEHCOUNT\", hue=\"SEVERITYCODE\", data=data)\\nplt.figure(figsize=(15, 6))\\nax = sns.countplot(x=\"SPEEDING_NUM\", hue=\"SEVERITYCODE\", data=data)\\nplt.figure(figsize=(15, 6))\\nax = sns.countplot(x=\"COLLISION_NUM\", hue=\"SEVERITYCODE\", data=data)\\nplt.figure(figsize=(15, 6))\\nax = sns.countplot(x=\"UNDERINFL\", hue=\"SEVERITYCODE\", data=data)'"
     },
     "execution_count": 152,
     "metadata": {},
     "output_type": "execute_result"
    }
   ],
   "source": [
    "#The histogram plot for how each feature variable affects the target variable\n",
    "\"\"\"plt.figure(figsize=(15, 6))\n",
    "ax = sns.countplot(x=\"WEATHER_NUM\", hue=\"SEVERITYCODE\", data=data)\n",
    "plt.figure(figsize=(15, 6))\n",
    "ax = sns.countplot(x=\"INATTENTIONIND\", hue=\"SEVERITYCODE\", data=data)\n",
    "plt.figure(figsize=(15, 6))\n",
    "ax = sns.countplot(x=\"ROADCOND_NUM\", hue=\"SEVERITYCODE\", data=data)\n",
    "plt.figure(figsize=(15, 6))\n",
    "ax = sns.countplot(x=\"LIGHTCOND_NUM\", hue=\"SEVERITYCODE\", data=data)\n",
    "plt.figure(figsize=(15, 6))\n",
    "ax = sns.countplot(x=\"VEHCOUNT\", hue=\"SEVERITYCODE\", data=data)\n",
    "plt.figure(figsize=(15, 6))\n",
    "ax = sns.countplot(x=\"SPEEDING_NUM\", hue=\"SEVERITYCODE\", data=data)\n",
    "plt.figure(figsize=(15, 6))\n",
    "ax = sns.countplot(x=\"COLLISION_NUM\", hue=\"SEVERITYCODE\", data=data)\n",
    "plt.figure(figsize=(15, 6))\n",
    "ax = sns.countplot(x=\"UNDERINFL\", hue=\"SEVERITYCODE\", data=data)\"\"\""
   ],
   "metadata": {
    "collapsed": false,
    "pycharm": {
     "name": "#%%\n"
    }
   }
  },
  {
   "cell_type": "code",
   "execution_count": null,
   "outputs": [],
   "source": [
    "#Resampling inorder to make the target value balanced or to balance the overall dataset\n",
    "data['SEVERITYCODE'].value_counts()\n",
    "df_maj=data[data['SEVERITYCODE']==1]\n",
    "df_min=data[data['SEVERITYCODE']==2]\n",
    "sample_maj=resample(df_maj,replace=False,n_samples=len(df_min.iloc[:,0]),random_state=4)\n",
    "balance=pd.concat([sample_maj,df_min])\n",
    "balance.reset_index(inplace=True)\n",
    "balance.drop(columns=['index'],inplace=True)"
   ],
   "metadata": {
    "collapsed": false,
    "pycharm": {
     "name": "#%%\n"
    }
   }
  },
  {
   "cell_type": "code",
   "execution_count": null,
   "outputs": [],
   "source": [
    "#Defining Features and target values and splitting data to train and test\n",
    "y=balance['SEVERITYCODE'].values\n",
    "X=np.asarray(balance[['WEATHER_NUM','INATTENTIONIND','ROADCOND_NUM','LIGHTCOND_NUM','VEHCOUNT','SPEEDING_NUM','COLLISION_NUM','UNDERINFL']])\n",
    "X=preprocessing.StandardScaler().fit_transform(X)\n",
    "X_train,X_test,y_train,y_test=train_test_split(X,y,test_size=0.1,random_state=0)"
   ],
   "metadata": {
    "collapsed": false,
    "pycharm": {
     "name": "#%%\n"
    }
   }
  },
  {
   "cell_type": "code",
   "execution_count": null,
   "outputs": [],
   "source": [
    "# Applying different supervised learning techniques like KNN, Decision Tree, Logistic Regression"
   ],
   "metadata": {
    "collapsed": false,
    "pycharm": {
     "name": "#%%\n"
    }
   }
  },
  {
   "cell_type": "code",
   "execution_count": null,
   "outputs": [],
   "source": [
    "# K-Nearest Neighbors\n",
    "\"\"\"for k in range(1, 21):\n",
    "    knn_model  = KNeighborsClassifier(n_neighbors = k).fit(X_train, y_train)\n",
    "    knn_yhat = knn_model.predict(X_test)\n",
    "    print(\"For K = {} accuracy = {}\".format(k,accuracy_score(y_test,knn_yhat)))\n",
    "#k=19\"\"\"\n",
    "best_knn_model = KNeighborsClassifier(n_neighbors = 19).fit(X_train, y_train)\n",
    "yh_knn=best_knn_model.predict(X_test)\n",
    "\"\"\"print(\"KNN Jaccard Accuracy {}\".format(accuracy_score(y_test,yh_knn)))\n",
    "print(\"KNN F1 Accuracy {}\".format(f1_score(y_test,yh_knn,average='weighted')))\"\"\""
   ],
   "metadata": {
    "collapsed": false,
    "pycharm": {
     "name": "#%%\n"
    }
   }
  },
  {
   "cell_type": "code",
   "execution_count": null,
   "outputs": [],
   "source": [
    "# Decision Tree\n",
    "\"\"\"for d in range(1,21):\n",
    "    dt = DecisionTreeClassifier(criterion = 'entropy', max_depth = d).fit(X_train, y_train)\n",
    "    dt_yhat = dt.predict(X_test)\n",
    "    print(\"For depth = {}  the accuracy score is {} \".format(d, accuracy_score(y_test, dt_yhat)))\n",
    "#d=7\"\"\"\n",
    "best_dt_model = DecisionTreeClassifier(criterion = 'entropy', max_depth = 6).fit(X_train, y_train)\n",
    "yh_dt=best_dt_model.predict(X_test)\n",
    "\"\"\"print(\"Decision Tree Jaccard Accuracy {}\".format(accuracy_score(y_test,yh_dt)))\n",
    "print(\"Decision Tree F1 Accuracy {}\".format(f1_score(y_test,yh_dt,average='weighted')))\"\"\""
   ],
   "metadata": {
    "collapsed": false,
    "pycharm": {
     "name": "#%%\n"
    }
   }
  },
  {
   "cell_type": "code",
   "execution_count": null,
   "outputs": [],
   "source": [
    "#Logistic Regression\n",
    "\"\"\"for k in ('lbfgs', 'saga', 'liblinear', 'newton-cg', 'sag'):\n",
    "    lr_model = LogisticRegression(C = 0.01, solver = k).fit(X_train, y_train)\n",
    "    lr_yhat = lr_model.predict(X_test)\n",
    "    y_prob = lr_model.predict_proba(X_test) #used for log loss only\n",
    "    print('When Solver is {}, logloss is : {}'.format(k, log_loss(y_test, y_prob)))\n",
    "#saga\"\"\"\n",
    "best_lr_model = LogisticRegression(C = 0.01, solver = 'saga').fit(X_train, y_train)\n",
    "yh_lr=best_lr_model.predict(X_test)\n",
    "yh_proba=best_lr_model.predict_proba(X_test)\n",
    "\"\"\"print(\"Logistic Regression Jaccard Accuracy {}\".format(accuracy_score(y_test,yh_lr)))\n",
    "print(\"Logistic Regression F1 Accuracy {}\".format(f1_score(y_test,yh_lr)))\n",
    "print(\"Logistic Regression Log Loss Accuracy {}\".format(log_loss(y_test,yh_proba)))\"\"\""
   ],
   "metadata": {
    "collapsed": false,
    "pycharm": {
     "name": "#%%\n"
    }
   }
  },
  {
   "cell_type": "code",
   "execution_count": null,
   "outputs": [],
   "source": [
    "df=pd.DataFrame({'KNN':[precision_score(y_test,yh_knn),recall_score(y_test,yh_knn),accuracy_score(y_test,yh_knn),f1_score(y_test,yh_knn,average='weighted'),'NA'],'DT':[accuracy_score(y_test,yh_dt),f1_score(y_test,yh_dt,average='weighted'),'NA'],'LR':[accuracy_score(y_test,yh_lr),f1_score(y_test,yh_lr), log_loss(y_test,yh_proba)]},index=['Precision','Jaccard','F1 score','Log loss'])\n",
    "df\n",
    "\n"
   ],
   "metadata": {
    "collapsed": false,
    "pycharm": {
     "name": "#%%\n"
    }
   }
  },
  {
   "cell_type": "code",
   "execution_count": null,
   "outputs": [],
   "source": [
    "#Comparing Actual and Predicted values in each ML technique\n",
    "#y_test is the actual value\n",
    "\"\"\"plt.figure(figsize=(15, 6))\n",
    "plt.title(\"KNN\")\n",
    "ax1 = sns.distplot(yh_knn,color='r',hist=False)\n",
    "plt.figure(figsize=(15, 6))\n",
    "sns.distplot(y_test,hist=False,color='b',ax=ax1)\n",
    "plt.show()\n",
    "\n",
    "plt.figure(figsize=(15, 6))\n",
    "plt.title(\"DT\")\n",
    "ax2 = sns.distplot(yh_dt,color='r',hist=False)\n",
    "plt.figure(figsize=(15, 6))\n",
    "sns.distplot(y_test,hist=False,color='b',ax=ax2)\n",
    "plt.show()\n",
    "\n",
    "plt.figure(figsize=(15, 6))\n",
    "plt.title(\"LR\")\n",
    "ax3 = sns.distplot(yh_lr,color='r',hist=False)\n",
    "plt.figure(figsize=(15, 6))\n",
    "sns.distplot(y_test,hist=False,color='b',ax=ax3)\n",
    "plt.show()\"\"\""
   ],
   "metadata": {
    "collapsed": false,
    "pycharm": {
     "name": "#%%\n"
    }
   }
  }
 ],
 "metadata": {
  "kernelspec": {
   "display_name": "Python 3",
   "language": "python",
   "name": "python3"
  },
  "language_info": {
   "codemirror_mode": {
    "name": "ipython",
    "version": 2
   },
   "file_extension": ".py",
   "mimetype": "text/x-python",
   "name": "python",
   "nbconvert_exporter": "python",
   "pygments_lexer": "ipython2",
   "version": "2.7.6"
  }
 },
 "nbformat": 4,
 "nbformat_minor": 0
}